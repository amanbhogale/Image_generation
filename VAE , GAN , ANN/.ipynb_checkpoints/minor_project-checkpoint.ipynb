{
 "cells": [
  {
   "cell_type": "code",
   "execution_count": 1,
   "id": "fd09c6b2-d6c2-4778-9f38-6296628ce153",
   "metadata": {
    "tags": []
   },
   "outputs": [
    {
     "name": "stderr",
     "output_type": "stream",
     "text": [
      "2023-11-05 16:13:03.107797: I tensorflow/tsl/cuda/cudart_stub.cc:28] Could not find cuda drivers on your machine, GPU will not be used.\n",
      "2023-11-05 16:13:03.149930: I tensorflow/tsl/cuda/cudart_stub.cc:28] Could not find cuda drivers on your machine, GPU will not be used.\n",
      "2023-11-05 16:13:03.150392: I tensorflow/core/platform/cpu_feature_guard.cc:182] This TensorFlow binary is optimized to use available CPU instructions in performance-critical operations.\n",
      "To enable the following instructions: AVX2 FMA, in other operations, rebuild TensorFlow with the appropriate compiler flags.\n",
      "2023-11-05 16:13:04.297663: W tensorflow/compiler/tf2tensorrt/utils/py_utils.cc:38] TF-TRT Warning: Could not find TensorRT\n"
     ]
    }
   ],
   "source": [
    "#Generating New dataset using MNIST\n",
    "\n",
    "import matplotlib.pyplot as plt\n",
    "from matplotlib.markers import MarkerStyle\n",
    "import numpy as np\n",
    "from keras import backend as K\n",
    "from keras.datasets import mnist\n",
    "from keras.layers import Lambda , Input ,Dense\n",
    "from keras.losses import binary_crossentropy\n",
    "from keras.models import Model \n",
    "import pickle\n",
    "\n"
   ]
  },
  {
   "cell_type": "code",
   "execution_count": 2,
   "id": "58257fd7-1094-475d-8d6f-fdb33fff746d",
   "metadata": {
    "tags": []
   },
   "outputs": [],
   "source": [
    "(x_train , y_train) , (x_test , y_test) = mnist.load_data()"
   ]
  },
  {
   "cell_type": "code",
   "execution_count": 3,
   "id": "3a0169f5-2032-4a8a-bb19-4bb63b4df5b6",
   "metadata": {
    "tags": []
   },
   "outputs": [],
   "source": [
    "image_size = x_train.shape[1] * x_train.shape[1]\n",
    "x_train = np.reshape(x_train , [-1 , image_size])\n",
    "x_test = np.reshape(x_test , [-1 , image_size])\n",
    "x_train = x_train.astype('float32')/225\n",
    "x_test = x_test.astype('float32')/225"
   ]
  },
  {
   "cell_type": "markdown",
   "id": "23616365-7a74-4a97-b67e-d6340bdef31a",
   "metadata": {},
   "source": [
    "### build_vae function which will build the VAE\n",
    "- we'll have separate access to the encoder, decoder, and the full network. The function will return them as a tuple.\n",
    "- The bottleneck layer will have only 2 neurons(that is, we'll have only 2 latent variables). In this way, we'll be able to display the latent distribution as a 2D plot.\n",
    "- The encoder/decoder will contain a single intermediate (hidden) fully\u0002connected layer with 512 neurons. This is not a convolutional network.\n",
    "- We'll use cross-entropy reconstruction loss and KL divergence.\n"
   ]
  },
  {
   "cell_type": "code",
   "execution_count": 4,
   "id": "0ccd97be-be01-4971-9bcc-74b7acd5ac15",
   "metadata": {
    "tags": []
   },
   "outputs": [],
   "source": [
    "def build_vae(intermediate_dim =512 , latent_dim=2):\n",
    "    #encoder first\n",
    "    inputs = Input(shape=(image_size) , name = 'encoder_input')\n",
    "    x = Dense(intermediate_dim , activation='relu')(inputs)\n",
    "    \n",
    "     #latent mean and variance\n",
    "    z_mean = Dense(latent_dim, name='z_mean')(x)\n",
    "    z_log_var = Dense(latent_dim, name='z_log_var')(x)\n",
    "    # reparameterization trick for random sampling\n",
    " # Note the use of the Lambda layer\n",
    " # At runtime, it will call the sampling function\n",
    "    z = Lambda(sampling, output_shape=(latent_dim,),name='z')([z_mean,z_log_var])\n",
    "    # full encoder encoder model\n",
    "    encoder = Model(inputs, [z_mean, z_log_var, z], name='encoder')\n",
    "    encoder.summary()\n",
    "    #decoder \n",
    "    latent_inputs = Input(shape=(latent_dim,), name='z_sampling')\n",
    "    x = Dense(intermediate_dim, activation='relu')(latent_inputs)\n",
    "    outputs = Dense(image_size, activation='sigmoid')(x)\n",
    "     #full decoder model\n",
    "    decoder = Model(latent_inputs, outputs, name='decoder')\n",
    "    decoder.summary()\n",
    "\n",
    "    #VAE model \n",
    "    outputs = decoder(encoder(inputs)[2])\n",
    "    vae = Model(inputs , outputs , name='vae')\n",
    "    #Loss Function\n",
    "    reconstruction_loss = binary_crossentropy(inputs , outputs) * image_size\n",
    "    #KL divergence\n",
    "    kl_loss = 1 + z_log_var - K.square(z_mean) - K.exp(z_log_var)\n",
    "    kl_loss = K.sum(kl_loss, axis=-1)\n",
    "    kl_loss *= -0.5\n",
    "    \n",
    "    #combine to total loss\n",
    "    vae_loss = K.mean(reconstruction_loss + kl_loss)\n",
    "    vae.add_loss(vae_loss)\n",
    "    \n",
    "    return encoder  , decoder , vae"
   ]
  },
  {
   "cell_type": "code",
   "execution_count": 5,
   "id": "a8d91049-9f8c-4f1d-965a-dae06a6c5edb",
   "metadata": {
    "tags": []
   },
   "outputs": [],
   "source": [
    "def sampling(args : tuple):\n",
    "    #unpacking the input tuple \n",
    "    z_mean , z_log_var = args \n",
    "    #mini batch size \n",
    "    mb_size = K.shape(z_mean)[0]\n",
    "    #latent space size \n",
    "    dim = K.int_shape(z_mean)[1]\n",
    "    #random normal vector with mean=0 and sd =1\n",
    "    epsilon = K.random_normal(shape=(mb_size,dim))\n",
    "    return z_mean + K.exp(0.5 * z_log_var) * epsilon\n"
   ]
  },
  {
   "cell_type": "code",
   "execution_count": 6,
   "id": "5750bbda-f3b6-478a-8fcb-47d5d5cce22b",
   "metadata": {
    "tags": []
   },
   "outputs": [],
   "source": [
    "def plot_latent_distribution(encoder, x_test, y_test, batch_size=128):\n",
    "    z_mean, _, _ = encoder.predict(x_test, batch_size=batch_size)\n",
    "    plt.figure(figsize=(6, 6))\n",
    "\n",
    "    for i in np.unique(y_test):\n",
    "        plt.scatter(z_mean[y_test == i, 0], z_mean[y_test == i, 1], marker='o', edgecolors='black', label=f'Class {i}')\n",
    "\n",
    "    plt.xlabel('z[0]')\n",
    "    plt.ylabel('z[1]')\n",
    "    plt.legend()\n",
    "    plt.show()\n"
   ]
  },
  {
   "cell_type": "code",
   "execution_count": 7,
   "id": "9d4af379-e652-4187-a48d-c9dfb0a53246",
   "metadata": {
    "tags": []
   },
   "outputs": [],
   "source": [
    "def plot_generated_images(decoder):\n",
    "    n = 15\n",
    "    digit_size = 28\n",
    "    figure = np.zeros((digit_size * n, digit_size * n))\n",
    "    \n",
    "    grid_x = np.linspace(-4, 4, n)\n",
    "    grid_y = np.linspace(-4, 4, n)[::-1]\n",
    "\n",
    "    for i, yi in enumerate(grid_y):\n",
    "        for j, xi in enumerate(grid_x):\n",
    "            z_sample = np.array([[xi, yi]])\n",
    "            x_decoded = decoder.predict(z_sample)\n",
    "            digit = x_decoded[0].reshape(digit_size, digit_size)\n",
    "            slice_i = slice(i * digit_size, (i + 1) * digit_size)\n",
    "            slice_j = slice(j * digit_size, (j + 1) * digit_size)\n",
    "            figure[slice_i, slice_j] = digit\n",
    "\n",
    "    plt.figure(figsize=(6, 5))\n",
    "\n",
    "    start_range = digit_size // 2\n",
    "    end_range = n * digit_size + start_range\n",
    "    pixel_range = np.arange(start_range, end_range, digit_size)\n",
    "    sample_range_x = np.round(grid_x, 1)\n",
    "    sample_range_y = np.round(grid_y, 1)\n",
    "\n",
    "    plt.xticks(pixel_range, sample_range_x)\n",
    "    plt.yticks(pixel_range, sample_range_y)\n",
    "\n",
    "    plt.imshow(figure, cmap='Greys')\n",
    "    plt.show()\n"
   ]
  },
  {
   "cell_type": "code",
   "execution_count": null,
   "id": "e657c72e-880e-40b9-9186-8cc693968c41",
   "metadata": {
    "tags": []
   },
   "outputs": [
    {
     "name": "stdout",
     "output_type": "stream",
     "text": [
      "Model: \"encoder\"\n",
      "__________________________________________________________________________________________________\n",
      " Layer (type)                Output Shape                 Param #   Connected to                  \n",
      "==================================================================================================\n",
      " encoder_input (InputLayer)  [(None, 784)]                0         []                            \n",
      "                                                                                                  \n",
      " dense (Dense)               (None, 512)                  401920    ['encoder_input[0][0]']       \n",
      "                                                                                                  \n",
      " z_mean (Dense)              (None, 2)                    1026      ['dense[0][0]']               \n",
      "                                                                                                  \n",
      " z_log_var (Dense)           (None, 2)                    1026      ['dense[0][0]']               \n",
      "                                                                                                  \n",
      " z (Lambda)                  (None, 2)                    0         ['z_mean[0][0]',              \n",
      "                                                                     'z_log_var[0][0]']           \n",
      "                                                                                                  \n",
      "==================================================================================================\n",
      "Total params: 403972 (1.54 MB)\n",
      "Trainable params: 403972 (1.54 MB)\n",
      "Non-trainable params: 0 (0.00 Byte)\n",
      "__________________________________________________________________________________________________\n",
      "Model: \"decoder\"\n"
     ]
    },
    {
     "name": "stderr",
     "output_type": "stream",
     "text": [
      "2023-11-05 16:13:08.732163: I tensorflow/compiler/xla/stream_executor/cuda/cuda_gpu_executor.cc:995] successful NUMA node read from SysFS had negative value (-1), but there must be at least one NUMA node, so returning NUMA node zero. See more at https://github.com/torvalds/linux/blob/v6.0/Documentation/ABI/testing/sysfs-bus-pci#L344-L355\n",
      "2023-11-05 16:13:08.774684: W tensorflow/core/common_runtime/gpu/gpu_device.cc:1960] Cannot dlopen some GPU libraries. Please make sure the missing libraries mentioned above are installed properly if you would like to use GPU. Follow the guide at https://www.tensorflow.org/install/gpu for how to download and setup the required libraries for your platform.\n",
      "Skipping registering GPU devices...\n"
     ]
    },
    {
     "name": "stdout",
     "output_type": "stream",
     "text": [
      "_________________________________________________________________\n",
      " Layer (type)                Output Shape              Param #   \n",
      "=================================================================\n",
      " z_sampling (InputLayer)     [(None, 2)]               0         \n",
      "                                                                 \n",
      " dense_1 (Dense)             (None, 512)               1536      \n",
      "                                                                 \n",
      " dense_2 (Dense)             (None, 784)               402192    \n",
      "                                                                 \n",
      "=================================================================\n",
      "Total params: 403728 (1.54 MB)\n",
      "Trainable params: 403728 (1.54 MB)\n",
      "Non-trainable params: 0 (0.00 Byte)\n",
      "_________________________________________________________________\n",
      "Model: \"vae\"\n",
      "__________________________________________________________________________________________________\n",
      " Layer (type)                Output Shape                 Param #   Connected to                  \n",
      "==================================================================================================\n",
      " encoder_input (InputLayer)  [(None, 784)]                0         []                            \n",
      "                                                                                                  \n",
      " encoder (Functional)        [(None, 2),                  403972    ['encoder_input[0][0]']       \n",
      "                              (None, 2),                                                          \n",
      "                              (None, 2)]                                                          \n",
      "                                                                                                  \n",
      " decoder (Functional)        (None, 784)                  403728    ['encoder[0][2]']             \n",
      "                                                                                                  \n",
      " dense (Dense)               (None, 512)                  401920    ['encoder_input[0][0]']       \n",
      "                                                                                                  \n",
      " z_log_var (Dense)           (None, 2)                    1026      ['dense[0][0]']               \n",
      "                                                                                                  \n",
      " z_mean (Dense)              (None, 2)                    1026      ['dense[0][0]']               \n",
      "                                                                                                  \n",
      " tf.__operators__.add (TFOp  (None, 2)                    0         ['z_log_var[0][0]']           \n",
      " Lambda)                                                                                          \n",
      "                                                                                                  \n",
      " tf.math.square (TFOpLambda  (None, 2)                    0         ['z_mean[0][0]']              \n",
      " )                                                                                                \n",
      "                                                                                                  \n",
      " tf.cast (TFOpLambda)        (None, 784)                  0         ['encoder_input[0][0]']       \n",
      "                                                                                                  \n",
      " tf.convert_to_tensor (TFOp  (None, 784)                  0         ['decoder[0][0]']             \n",
      " Lambda)                                                                                          \n",
      "                                                                                                  \n",
      " tf.math.subtract (TFOpLamb  (None, 2)                    0         ['tf.__operators__.add[0][0]',\n",
      " da)                                                                 'tf.math.square[0][0]']      \n",
      "                                                                                                  \n",
      " tf.math.exp (TFOpLambda)    (None, 2)                    0         ['z_log_var[0][0]']           \n",
      "                                                                                                  \n",
      " tf.keras.backend.binary_cr  (None, 784)                  0         ['tf.cast[0][0]',             \n",
      " ossentropy (TFOpLambda)                                             'tf.convert_to_tensor[0][0]']\n",
      "                                                                                                  \n",
      " tf.math.subtract_1 (TFOpLa  (None, 2)                    0         ['tf.math.subtract[0][0]',    \n",
      " mbda)                                                               'tf.math.exp[0][0]']         \n",
      "                                                                                                  \n",
      " tf.math.reduce_mean (TFOpL  (None,)                      0         ['tf.keras.backend.binary_cros\n",
      " ambda)                                                             sentropy[0][0]']              \n",
      "                                                                                                  \n",
      " tf.math.reduce_sum (TFOpLa  (None,)                      0         ['tf.math.subtract_1[0][0]']  \n",
      " mbda)                                                                                            \n",
      "                                                                                                  \n",
      " tf.math.multiply (TFOpLamb  (None,)                      0         ['tf.math.reduce_mean[0][0]'] \n",
      " da)                                                                                              \n",
      "                                                                                                  \n",
      " tf.math.multiply_1 (TFOpLa  (None,)                      0         ['tf.math.reduce_sum[0][0]']  \n",
      " mbda)                                                                                            \n",
      "                                                                                                  \n",
      " tf.__operators__.add_1 (TF  (None,)                      0         ['tf.math.multiply[0][0]',    \n",
      " OpLambda)                                                           'tf.math.multiply_1[0][0]']  \n",
      "                                                                                                  \n",
      " tf.math.reduce_mean_1 (TFO  ()                           0         ['tf.__operators__.add_1[0][0]\n",
      " pLambda)                                                           ']                            \n",
      "                                                                                                  \n",
      " add_loss (AddLoss)          ()                           0         ['tf.math.reduce_mean_1[0][0]'\n",
      "                                                                    ]                             \n",
      "                                                                                                  \n",
      "==================================================================================================\n",
      "Total params: 807700 (3.08 MB)\n",
      "Trainable params: 807700 (3.08 MB)\n",
      "Non-trainable params: 0 (0.00 Byte)\n",
      "__________________________________________________________________________________________________\n",
      "Epoch 1/50\n"
     ]
    },
    {
     "name": "stderr",
     "output_type": "stream",
     "text": [
      "2023-11-05 16:13:09.227705: W tensorflow/tsl/framework/cpu_allocator_impl.cc:83] Allocation of 188160000 exceeds 10% of free system memory.\n"
     ]
    },
    {
     "name": "stdout",
     "output_type": "stream",
     "text": [
      "468/469 [============================>.] - ETA: 0s - loss: 199.6455"
     ]
    },
    {
     "name": "stderr",
     "output_type": "stream",
     "text": [
      "2023-11-05 16:13:16.700089: W tensorflow/tsl/framework/cpu_allocator_impl.cc:83] Allocation of 31360000 exceeds 10% of free system memory.\n"
     ]
    },
    {
     "name": "stdout",
     "output_type": "stream",
     "text": [
      "469/469 [==============================] - 8s 15ms/step - loss: 199.5879 - val_loss: 170.9571\n",
      "Epoch 2/50\n",
      "469/469 [==============================] - 7s 14ms/step - loss: 131.8907 - val_loss: -73.0911\n",
      "Epoch 3/50\n",
      "469/469 [==============================] - 7s 15ms/step - loss: -3375.1128 - val_loss: -11600.2227\n",
      "Epoch 4/50\n",
      " 83/469 [====>.........................] - ETA: 6s - loss: -13677.1855"
     ]
    }
   ],
   "source": [
    "if __name__ == '__main__':\n",
    "    encoder, decoder, vae = build_vae()\n",
    "    vae.compile(optimizer='adam')\n",
    "    vae.summary()\n",
    "    vae.fit(x_train,\n",
    "    epochs=50,\n",
    "    batch_size=128,\n",
    "    validation_data=(x_test, None))\n",
    "    plot_latent_distribution(encoder,x_test,y_test,batch_size=128)\n",
    "    plot_generated_images(decoder)\n"
   ]
  },
  {
   "cell_type": "code",
   "execution_count": null,
   "id": "3159fa03-48d7-4883-883c-095973195092",
   "metadata": {
    "tags": []
   },
   "outputs": [],
   "source": [
    "# Save the trained VAE model to a file\n",
    "with open('vae_model.pkl', 'wb') as model_file:\n",
    "    pickle.dump(vae, model_file)\n",
    "# Load the VAE model from the file\n",
    "with open('vae_model.pkl', 'rb') as model_file:\n",
    "    loaded_model = pickle.load(model_file)\n",
    "\n"
   ]
  },
  {
   "cell_type": "code",
   "execution_count": null,
   "id": "bc20a101-baa3-4959-b54e-ec3c69258697",
   "metadata": {},
   "outputs": [],
   "source": []
  },
  {
   "cell_type": "code",
   "execution_count": null,
   "id": "515edd4f-58b0-4131-871c-e21f51c535f4",
   "metadata": {},
   "outputs": [],
   "source": []
  },
  {
   "cell_type": "code",
   "execution_count": null,
   "id": "e554ead1-c3e4-4f84-b541-9c489dd10054",
   "metadata": {},
   "outputs": [],
   "source": []
  }
 ],
 "metadata": {
  "kernelspec": {
   "display_name": "Python 3 (ipykernel)",
   "language": "python",
   "name": "python3"
  },
  "language_info": {
   "codemirror_mode": {
    "name": "ipython",
    "version": 3
   },
   "file_extension": ".py",
   "mimetype": "text/x-python",
   "name": "python",
   "nbconvert_exporter": "python",
   "pygments_lexer": "ipython3",
   "version": "3.11.5"
  }
 },
 "nbformat": 4,
 "nbformat_minor": 5
}
